{
 "cells": [
  {
   "cell_type": "code",
   "execution_count": 1,
   "metadata": {
    "collapsed": true
   },
   "outputs": [],
   "source": [
    "from __future__ import absolute_import\n",
    "from __future__ import division\n",
    "from __future__ import print_function"
   ]
  },
  {
   "cell_type": "code",
   "execution_count": 2,
   "metadata": {
    "collapsed": false
   },
   "outputs": [],
   "source": [
    "import urllib\n",
    "from urllib.request import urlopen, urlretrieve\n",
    "from io import BytesIO\n",
    "from pyspark.sql import functions as F\n",
    "from pyspark.sql import types as T\n",
    "import numpy as np\n",
    "import sys\n",
    "import pickle\n",
    "import pandas as pd\n",
    "import tensorflow as tf"
   ]
  },
  {
   "cell_type": "code",
   "execution_count": 36,
   "metadata": {
    "collapsed": false
   },
   "outputs": [],
   "source": [
    "# to load the dataset\n",
    "#testfile = urlretrieve(\"https://www.cs.toronto.edu/~kriz/cifar-10-python.tar.gz\",\"cifar.tar.gz\")"
   ]
  },
  {
   "cell_type": "code",
   "execution_count": 3,
   "metadata": {
    "collapsed": true
   },
   "outputs": [],
   "source": [
    "def load_CIFAR10_batch(filename):\n",
    "  '''load data from single CIFAR-10 file'''\n",
    "\n",
    "  with open(filename, 'rb') as f:\n",
    "    if sys.version_info[0] < 3:\n",
    "      dict = pickle.load(f)\n",
    "    else:\n",
    "      dict = pickle.load(f, encoding='latin1')\n",
    "    x = dict['data']\n",
    "    y = dict['labels']\n",
    "    x = x.astype(float)\n",
    "    y = np.array(y)\n",
    "  return x, y"
   ]
  },
  {
   "cell_type": "code",
   "execution_count": 4,
   "metadata": {
    "collapsed": true
   },
   "outputs": [],
   "source": [
    "filename = 'cifar-10-batches-py/data_batch_1'\n",
    "X, Y = load_CIFAR10_batch(filename)"
   ]
  },
  {
   "cell_type": "code",
   "execution_count": 5,
   "metadata": {
    "collapsed": false
   },
   "outputs": [],
   "source": [
    "rdd = zip(X.tolist(),Y.tolist(),np.arange(10000).tolist())\n",
    "rdd = sc.parallelize(rdd)\n",
    "df3 = rdd.toDF(['images','labels','index'])\n",
    "numImages = df3.count()"
   ]
  },
  {
   "cell_type": "code",
   "execution_count": null,
   "metadata": {
    "collapsed": false
   },
   "outputs": [],
   "source": [
    "#df3 = rdddf.withColumn(\"index\",F.monotonicallyIncreasingId())\n"
   ]
  },
  {
   "cell_type": "code",
   "execution_count": 6,
   "metadata": {
    "collapsed": false
   },
   "outputs": [],
   "source": [
    "batch_size = 10\n",
    "indices = np.random.choice(numImages,batch_size)\n",
    "array = (df3.where(F.col(\"index\") == 73).select(F.col(\"images\"))).collect()\n",
    "array = (df3.where(F.col(\"index\") == int(85))).collect()\n",
    "#array\n",
    "#array[0].images"
   ]
  },
  {
   "cell_type": "code",
   "execution_count": 7,
   "metadata": {
    "collapsed": false
   },
   "outputs": [],
   "source": [
    "def input_images(indices):\n",
    "    a = []\n",
    "    b = []\n",
    "    for x in indices:\n",
    "        array = (df3.where(F.col(\"index\") == int(x))).collect()\n",
    "        a.append(np.array(array[0].images))\n",
    "        b.append(np.array(array[0].labels))\n",
    "    return np.array(a), np.array(b)"
   ]
  },
  {
   "cell_type": "code",
   "execution_count": 8,
   "metadata": {
    "collapsed": true
   },
   "outputs": [],
   "source": [
    "classes = ['plane', 'car', 'bird', 'cat', 'deer', 'dog', 'frog', 'horse', 'ship', 'truck']"
   ]
  },
  {
   "cell_type": "code",
   "execution_count": 9,
   "metadata": {
    "collapsed": false
   },
   "outputs": [],
   "source": [
    "batch_size = 100\n",
    "learning_rate = 0.005\n",
    "max_steps = 1000\n",
    "\n",
    "\n",
    "image_placeholders = tf.placeholder(tf.float32, shape=[None,3072])\n",
    "labels_placeholders = tf.placeholder(tf.int64, shape=[None])\n",
    "\n",
    "weights = tf.Variable(tf.zeros([3072,10]))\n",
    "biases = tf.Variable(tf.zeros([10]))\n",
    "\n",
    "logits = tf.matmul(image_placeholders, weights) + biases\n",
    "\n",
    "loss = tf.reduce_mean(tf.nn.sparse_softmax_cross_entropy_with_logits(logits=logits,labels=labels_placeholders))\n",
    "train_step = tf.train.GradientDescentOptimizer(learning_rate).minimize(loss)\n",
    "correct_prediction = tf.equal(tf.argmax(logits,1),labels_placeholders)\n",
    "accuracy = tf.reduce_mean(tf.cast(correct_prediction,tf.float32))"
   ]
  },
  {
   "cell_type": "code",
   "execution_count": null,
   "metadata": {
    "collapsed": false
   },
   "outputs": [
    {
     "name": "stdout",
     "output_type": "stream",
     "text": [
      "Step     0: training accuracy 0.09\n"
     ]
    }
   ],
   "source": [
    "with tf.Session() as sess:\n",
    "    sess.run(tf.global_variables_initializer())\n",
    "    for i in range(max_steps):\n",
    "        indices = np.random.choice(10000,batch_size) #number of rows hardcoded(need to change this)\n",
    "        image_batch,labels_batch = input_images(indices)\n",
    "        if i%100 == 0:\n",
    "            train_accuracy = sess.run(accuracy, feed_dict={image_placeholders: image_batch,labels_placeholders:labels_batch})\n",
    "            print('Step {:5d}: training accuracy {:g}'.format(i,train_accuracy))\n",
    "\n",
    "        sess.run(train_step, feed_dict={image_placeholders: image_batch, labels_placeholders:labels_batch})\n",
    "        \n",
    "    test_accuracy = sess.run(accuracy, feed_dict={image_placeholders: image_batch,labels_placeholders: image_batch})\n",
    "    print('Test accuracy {:g}'.format(test_accuracy))"
   ]
  },
  {
   "cell_type": "code",
   "execution_count": null,
   "metadata": {
    "collapsed": true
   },
   "outputs": [],
   "source": []
  }
 ],
 "metadata": {
  "kernelspec": {
   "display_name": "PySpark Python3",
   "language": "python",
   "name": "pyspark3"
  },
  "language_info": {
   "codemirror_mode": {
    "name": "ipython",
    "version": 3
   },
   "file_extension": ".py",
   "mimetype": "text/x-python",
   "name": "python",
   "nbconvert_exporter": "python",
   "pygments_lexer": "ipython3",
   "version": "3.5.2"
  }
 },
 "nbformat": 4,
 "nbformat_minor": 2
}
