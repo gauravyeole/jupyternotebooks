{
 "cells": [
  {
   "cell_type": "code",
   "execution_count": 1,
   "metadata": {
    "collapsed": false
   },
   "outputs": [],
   "source": [
    "from urllib.request import urlopen\n",
    "from io import BytesIO\n",
    "from PIL import Image\n",
    "from imagehash import phash\n",
    "from pyspark.sql import functions as F\n",
    "from pyspark.sql import types as T\n",
    "import numpy as np"
   ]
  },
  {
   "cell_type": "code",
   "execution_count": 2,
   "metadata": {
    "collapsed": false
   },
   "outputs": [],
   "source": [
    "df = sqlContext.read.parquet(\"/guoda/data/idigbio-media-20170709T013207-100k.parquet\")"
   ]
  },
  {
   "cell_type": "code",
   "execution_count": 10,
   "metadata": {
    "collapsed": false
   },
   "outputs": [
    {
     "data": {
      "text/plain": [
       "513"
      ]
     },
     "execution_count": 10,
     "metadata": {},
     "output_type": "execute_result"
    }
   ],
   "source": [
    "df2 = df.sample(False,0.005,45) # to select small dataframe for faster execution \n",
    "df2.count()"
   ]
  },
  {
   "cell_type": "code",
   "execution_count": 3,
   "metadata": {
    "collapsed": false
   },
   "outputs": [],
   "source": [
    "def imagebytes(v):\n",
    "    try:\n",
    "        b = BytesIO()\n",
    "        sqr = (Image.open(BytesIO(urlopen(\"http://api.idigbio.org/v2/media?size=thumbnail&filereference=\" + v).read()))).resize((256,256),Image.LANCZOS)\n",
    "        sqr.save(b,format=\"jpeg\")\n",
    "        b.seek(0)\n",
    "        return b.read()\n",
    "    except:\n",
    "        return np.nan"
   ]
  },
  {
   "cell_type": "code",
   "execution_count": 6,
   "metadata": {
    "collapsed": false
   },
   "outputs": [],
   "source": [
    "imgb_udf = F.udf(imagebytes, T.BinaryType())\n",
    "newdf = df2.select(\"accessuri\",imgb_udf(\"accessuri\"))"
   ]
  },
  {
   "cell_type": "code",
   "execution_count": 7,
   "metadata": {
    "collapsed": false
   },
   "outputs": [
    {
     "name": "stdout",
     "output_type": "stream",
     "text": [
      "root\n",
      " |-- accessuri: string (nullable = true)\n",
      " |-- imagebytes(accessuri): binary (nullable = true)\n",
      "\n",
      "+---------------------+-----+\n",
      "|imagebytes(accessuri)|count|\n",
      "+---------------------+-----+\n",
      "|                 null|  134|\n",
      "| [FF D8 FF E0 00 1...|    1|\n",
      "| [FF D8 FF E0 00 1...|    1|\n",
      "| [FF D8 FF E0 00 1...|    1|\n",
      "| [FF D8 FF E0 00 1...|    1|\n",
      "| [FF D8 FF E0 00 1...|    1|\n",
      "| [FF D8 FF E0 00 1...|    1|\n",
      "| [FF D8 FF E0 00 1...|    1|\n",
      "| [FF D8 FF E0 00 1...|    1|\n",
      "| [FF D8 FF E0 00 1...|    1|\n",
      "| [FF D8 FF E0 00 1...|    1|\n",
      "| [FF D8 FF E0 00 1...|    1|\n",
      "| [FF D8 FF E0 00 1...|    1|\n",
      "| [FF D8 FF E0 00 1...|    1|\n",
      "| [FF D8 FF E0 00 1...|    1|\n",
      "| [FF D8 FF E0 00 1...|    1|\n",
      "| [FF D8 FF E0 00 1...|    1|\n",
      "| [FF D8 FF E0 00 1...|    1|\n",
      "| [FF D8 FF E0 00 1...|    1|\n",
      "| [FF D8 FF E0 00 1...|    1|\n",
      "+---------------------+-----+\n",
      "only showing top 20 rows\n",
      "\n"
     ]
    }
   ],
   "source": [
    "newdf.printSchema()\n",
    "newdf.groupby(\"imagebytes(accessuri)\").count().sort(F.col(\"count\").desc()).show()"
   ]
  },
  {
   "cell_type": "code",
   "execution_count": 8,
   "metadata": {
    "collapsed": false
   },
   "outputs": [
    {
     "name": "stdout",
     "output_type": "stream",
     "text": [
      "+--------------------+---------------------+\n",
      "|           accessuri|imagebytes(accessuri)|\n",
      "+--------------------+---------------------+\n",
      "|http://mediaphoto...| [FF D8 FF E0 00 1...|\n",
      "|http://mediaphoto...| [FF D8 FF E0 00 1...|\n",
      "|http://mediaphoto...| [FF D8 FF E0 00 1...|\n",
      "|http://mediaphoto...| [FF D8 FF E0 00 1...|\n",
      "|http://bovary.ipl...|                 null|\n",
      "|http://bovary.ipl...|                 null|\n",
      "|http://bovary.ipl...|                 null|\n",
      "|http://arctos.dat...| [FF D8 FF E0 00 1...|\n",
      "|http://mediaphoto...| [FF D8 FF E0 00 1...|\n",
      "|http://mediaphoto...| [FF D8 FF E0 00 1...|\n",
      "|http://mediaphoto...| [FF D8 FF E0 00 1...|\n",
      "|http://cdm15705.c...| [FF D8 FF E0 00 1...|\n",
      "|http://mediaphoto...| [FF D8 FF E0 00 1...|\n",
      "|http://mediaphoto...| [FF D8 FF E0 00 1...|\n",
      "|http://mediaphoto...| [FF D8 FF E0 00 1...|\n",
      "|http://mediaphoto...| [FF D8 FF E0 00 1...|\n",
      "|http://mediaphoto...| [FF D8 FF E0 00 1...|\n",
      "|http://mediaphoto...| [FF D8 FF E0 00 1...|\n",
      "|http://mediaphoto...| [FF D8 FF E0 00 1...|\n",
      "|http://mediaphoto...| [FF D8 FF E0 00 1...|\n",
      "+--------------------+---------------------+\n",
      "only showing top 20 rows\n",
      "\n"
     ]
    }
   ],
   "source": [
    "newdf.show()"
   ]
  },
  {
   "cell_type": "code",
   "execution_count": null,
   "metadata": {
    "collapsed": true
   },
   "outputs": [],
   "source": []
  }
 ],
 "metadata": {
  "kernelspec": {
   "display_name": "1 - PySpark Python3 Small",
   "language": "python",
   "name": "pyspark3-small"
  },
  "language_info": {
   "codemirror_mode": {
    "name": "ipython",
    "version": 3
   },
   "file_extension": ".py",
   "mimetype": "text/x-python",
   "name": "python",
   "nbconvert_exporter": "python",
   "pygments_lexer": "ipython3",
   "version": "3.5.2"
  }
 },
 "nbformat": 4,
 "nbformat_minor": 1
}
